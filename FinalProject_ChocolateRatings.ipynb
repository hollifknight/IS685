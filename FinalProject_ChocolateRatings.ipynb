{
 "cells": [
  {
   "cell_type": "markdown",
   "metadata": {},
   "source": [
    "# Predicting Chocolate Ratings\n",
    "Chocolate is one of the most popular candies in the world. Each year, residents of the United States collectively eat more than 2.8 billions pounds. However, not all chocolate bars are created equal! This dataset contains expert ratings of over 1,700 individual chocolate bars, along with information on their regional origin, percentage of cocoa, the variety of chocolate bean used and where the beans were grown.\n",
    "This project is dedicated to predicting chocolate ratings.\n",
    "\n",
    "These ratings were compiled by Brady Brelinski, Founding Member of the Manhattan Chocolate Society."
   ]
  },
  {
   "cell_type": "markdown",
   "metadata": {},
   "source": [
    "# Cleaning & Exploratory Data Analysis"
   ]
  },
  {
   "cell_type": "code",
   "execution_count": 1,
   "metadata": {},
   "outputs": [
    {
     "data": {
      "text/html": [
       "<div>\n",
       "<style scoped>\n",
       "    .dataframe tbody tr th:only-of-type {\n",
       "        vertical-align: middle;\n",
       "    }\n",
       "\n",
       "    .dataframe tbody tr th {\n",
       "        vertical-align: top;\n",
       "    }\n",
       "\n",
       "    .dataframe thead th {\n",
       "        text-align: right;\n",
       "    }\n",
       "</style>\n",
       "<table border=\"1\" class=\"dataframe\">\n",
       "  <thead>\n",
       "    <tr style=\"text-align: right;\">\n",
       "      <th></th>\n",
       "      <th>Company \n",
       "(Maker-if known)</th>\n",
       "      <th>Specific Bean Origin\n",
       "or Bar Name</th>\n",
       "      <th>REF</th>\n",
       "      <th>Review\n",
       "Date</th>\n",
       "      <th>Cocoa\n",
       "Percent</th>\n",
       "      <th>Company\n",
       "Location</th>\n",
       "      <th>Rating</th>\n",
       "      <th>Bean\n",
       "Type</th>\n",
       "      <th>Broad Bean\n",
       "Origin</th>\n",
       "    </tr>\n",
       "  </thead>\n",
       "  <tbody>\n",
       "    <tr>\n",
       "      <th>0</th>\n",
       "      <td>A. Morin</td>\n",
       "      <td>Agua Grande</td>\n",
       "      <td>1876</td>\n",
       "      <td>2016</td>\n",
       "      <td>63%</td>\n",
       "      <td>France</td>\n",
       "      <td>3.75</td>\n",
       "      <td></td>\n",
       "      <td>Sao Tome</td>\n",
       "    </tr>\n",
       "    <tr>\n",
       "      <th>1</th>\n",
       "      <td>A. Morin</td>\n",
       "      <td>Kpime</td>\n",
       "      <td>1676</td>\n",
       "      <td>2015</td>\n",
       "      <td>70%</td>\n",
       "      <td>France</td>\n",
       "      <td>2.75</td>\n",
       "      <td></td>\n",
       "      <td>Togo</td>\n",
       "    </tr>\n",
       "    <tr>\n",
       "      <th>2</th>\n",
       "      <td>A. Morin</td>\n",
       "      <td>Atsane</td>\n",
       "      <td>1676</td>\n",
       "      <td>2015</td>\n",
       "      <td>70%</td>\n",
       "      <td>France</td>\n",
       "      <td>3.00</td>\n",
       "      <td></td>\n",
       "      <td>Togo</td>\n",
       "    </tr>\n",
       "    <tr>\n",
       "      <th>3</th>\n",
       "      <td>A. Morin</td>\n",
       "      <td>Akata</td>\n",
       "      <td>1680</td>\n",
       "      <td>2015</td>\n",
       "      <td>70%</td>\n",
       "      <td>France</td>\n",
       "      <td>3.50</td>\n",
       "      <td></td>\n",
       "      <td>Togo</td>\n",
       "    </tr>\n",
       "    <tr>\n",
       "      <th>4</th>\n",
       "      <td>A. Morin</td>\n",
       "      <td>Quilla</td>\n",
       "      <td>1704</td>\n",
       "      <td>2015</td>\n",
       "      <td>70%</td>\n",
       "      <td>France</td>\n",
       "      <td>3.50</td>\n",
       "      <td></td>\n",
       "      <td>Peru</td>\n",
       "    </tr>\n",
       "  </tbody>\n",
       "</table>\n",
       "</div>"
      ],
      "text/plain": [
       "  Company \\n(Maker-if known) Specific Bean Origin\\nor Bar Name   REF  \\\n",
       "0                   A. Morin                       Agua Grande  1876   \n",
       "1                   A. Morin                             Kpime  1676   \n",
       "2                   A. Morin                            Atsane  1676   \n",
       "3                   A. Morin                             Akata  1680   \n",
       "4                   A. Morin                            Quilla  1704   \n",
       "\n",
       "   Review\\nDate Cocoa\\nPercent Company\\nLocation  Rating Bean\\nType  \\\n",
       "0          2016            63%            France    3.75              \n",
       "1          2015            70%            France    2.75              \n",
       "2          2015            70%            France    3.00              \n",
       "3          2015            70%            France    3.50              \n",
       "4          2015            70%            France    3.50              \n",
       "\n",
       "  Broad Bean\\nOrigin  \n",
       "0           Sao Tome  \n",
       "1               Togo  \n",
       "2               Togo  \n",
       "3               Togo  \n",
       "4               Peru  "
      ]
     },
     "execution_count": 1,
     "metadata": {},
     "output_type": "execute_result"
    }
   ],
   "source": [
    "###Import and inspect the data\n",
    "\n",
    "import pandas as pd\n",
    "import numpy as np\n",
    "import matplotlib.pyplot as plt\n",
    "\n",
    "df = pd.read_csv('/Users/holliknight/Desktop/flavors_of_cacao-1.csv')\n",
    "df.head()"
   ]
  },
  {
   "cell_type": "code",
   "execution_count": 2,
   "metadata": {},
   "outputs": [],
   "source": [
    "df.columns = ['Company', 'SpecificBeanOrigin', 'REF', 'ReviewDate', 'CocoaPct', 'Location', 'Rating', 'BeanType', 'BroadBeanOrigin']"
   ]
  },
  {
   "cell_type": "code",
   "execution_count": 3,
   "metadata": {},
   "outputs": [
    {
     "data": {
      "text/html": [
       "<div>\n",
       "<style scoped>\n",
       "    .dataframe tbody tr th:only-of-type {\n",
       "        vertical-align: middle;\n",
       "    }\n",
       "\n",
       "    .dataframe tbody tr th {\n",
       "        vertical-align: top;\n",
       "    }\n",
       "\n",
       "    .dataframe thead th {\n",
       "        text-align: right;\n",
       "    }\n",
       "</style>\n",
       "<table border=\"1\" class=\"dataframe\">\n",
       "  <thead>\n",
       "    <tr style=\"text-align: right;\">\n",
       "      <th></th>\n",
       "      <th>Company</th>\n",
       "      <th>SpecificBeanOrigin</th>\n",
       "      <th>ReviewDate</th>\n",
       "      <th>CocoaPct</th>\n",
       "      <th>Location</th>\n",
       "      <th>Rating</th>\n",
       "      <th>BeanType</th>\n",
       "      <th>BroadBeanOrigin</th>\n",
       "    </tr>\n",
       "  </thead>\n",
       "  <tbody>\n",
       "    <tr>\n",
       "      <th>0</th>\n",
       "      <td>A. Morin</td>\n",
       "      <td>Agua Grande</td>\n",
       "      <td>2016</td>\n",
       "      <td>63%</td>\n",
       "      <td>France</td>\n",
       "      <td>3.75</td>\n",
       "      <td></td>\n",
       "      <td>Sao Tome</td>\n",
       "    </tr>\n",
       "    <tr>\n",
       "      <th>1</th>\n",
       "      <td>A. Morin</td>\n",
       "      <td>Kpime</td>\n",
       "      <td>2015</td>\n",
       "      <td>70%</td>\n",
       "      <td>France</td>\n",
       "      <td>2.75</td>\n",
       "      <td></td>\n",
       "      <td>Togo</td>\n",
       "    </tr>\n",
       "    <tr>\n",
       "      <th>2</th>\n",
       "      <td>A. Morin</td>\n",
       "      <td>Atsane</td>\n",
       "      <td>2015</td>\n",
       "      <td>70%</td>\n",
       "      <td>France</td>\n",
       "      <td>3.00</td>\n",
       "      <td></td>\n",
       "      <td>Togo</td>\n",
       "    </tr>\n",
       "    <tr>\n",
       "      <th>3</th>\n",
       "      <td>A. Morin</td>\n",
       "      <td>Akata</td>\n",
       "      <td>2015</td>\n",
       "      <td>70%</td>\n",
       "      <td>France</td>\n",
       "      <td>3.50</td>\n",
       "      <td></td>\n",
       "      <td>Togo</td>\n",
       "    </tr>\n",
       "    <tr>\n",
       "      <th>4</th>\n",
       "      <td>A. Morin</td>\n",
       "      <td>Quilla</td>\n",
       "      <td>2015</td>\n",
       "      <td>70%</td>\n",
       "      <td>France</td>\n",
       "      <td>3.50</td>\n",
       "      <td></td>\n",
       "      <td>Peru</td>\n",
       "    </tr>\n",
       "  </tbody>\n",
       "</table>\n",
       "</div>"
      ],
      "text/plain": [
       "    Company SpecificBeanOrigin  ReviewDate CocoaPct Location  Rating BeanType  \\\n",
       "0  A. Morin        Agua Grande        2016      63%   France    3.75            \n",
       "1  A. Morin              Kpime        2015      70%   France    2.75            \n",
       "2  A. Morin             Atsane        2015      70%   France    3.00            \n",
       "3  A. Morin              Akata        2015      70%   France    3.50            \n",
       "4  A. Morin             Quilla        2015      70%   France    3.50            \n",
       "\n",
       "  BroadBeanOrigin  \n",
       "0        Sao Tome  \n",
       "1            Togo  \n",
       "2            Togo  \n",
       "3            Togo  \n",
       "4            Peru  "
      ]
     },
     "execution_count": 3,
     "metadata": {},
     "output_type": "execute_result"
    }
   ],
   "source": [
    "##We can drop the REF column because it is redundant: it is value linked to when the review was entered in the database. Higher = more recent.\n",
    "df = df.drop(columns=['REF'])\n",
    "df.head()"
   ]
  },
  {
   "cell_type": "code",
   "execution_count": 4,
   "metadata": {},
   "outputs": [
    {
     "data": {
      "text/html": [
       "<div>\n",
       "<style scoped>\n",
       "    .dataframe tbody tr th:only-of-type {\n",
       "        vertical-align: middle;\n",
       "    }\n",
       "\n",
       "    .dataframe tbody tr th {\n",
       "        vertical-align: top;\n",
       "    }\n",
       "\n",
       "    .dataframe thead th {\n",
       "        text-align: right;\n",
       "    }\n",
       "</style>\n",
       "<table border=\"1\" class=\"dataframe\">\n",
       "  <thead>\n",
       "    <tr style=\"text-align: right;\">\n",
       "      <th></th>\n",
       "      <th>Company</th>\n",
       "      <th>SpecificBeanOrigin</th>\n",
       "      <th>ReviewDate</th>\n",
       "      <th>CocoaPct</th>\n",
       "      <th>Location</th>\n",
       "      <th>Rating</th>\n",
       "      <th>BeanType</th>\n",
       "      <th>BroadBeanOrigin</th>\n",
       "    </tr>\n",
       "  </thead>\n",
       "  <tbody>\n",
       "    <tr>\n",
       "      <th>0</th>\n",
       "      <td>A. Morin</td>\n",
       "      <td>Agua Grande</td>\n",
       "      <td>2016</td>\n",
       "      <td>0.63</td>\n",
       "      <td>France</td>\n",
       "      <td>375</td>\n",
       "      <td></td>\n",
       "      <td>Sao Tome</td>\n",
       "    </tr>\n",
       "    <tr>\n",
       "      <th>1</th>\n",
       "      <td>A. Morin</td>\n",
       "      <td>Kpime</td>\n",
       "      <td>2015</td>\n",
       "      <td>0.70</td>\n",
       "      <td>France</td>\n",
       "      <td>275</td>\n",
       "      <td></td>\n",
       "      <td>Togo</td>\n",
       "    </tr>\n",
       "    <tr>\n",
       "      <th>2</th>\n",
       "      <td>A. Morin</td>\n",
       "      <td>Atsane</td>\n",
       "      <td>2015</td>\n",
       "      <td>0.70</td>\n",
       "      <td>France</td>\n",
       "      <td>300</td>\n",
       "      <td></td>\n",
       "      <td>Togo</td>\n",
       "    </tr>\n",
       "    <tr>\n",
       "      <th>3</th>\n",
       "      <td>A. Morin</td>\n",
       "      <td>Akata</td>\n",
       "      <td>2015</td>\n",
       "      <td>0.70</td>\n",
       "      <td>France</td>\n",
       "      <td>350</td>\n",
       "      <td></td>\n",
       "      <td>Togo</td>\n",
       "    </tr>\n",
       "    <tr>\n",
       "      <th>4</th>\n",
       "      <td>A. Morin</td>\n",
       "      <td>Quilla</td>\n",
       "      <td>2015</td>\n",
       "      <td>0.70</td>\n",
       "      <td>France</td>\n",
       "      <td>350</td>\n",
       "      <td></td>\n",
       "      <td>Peru</td>\n",
       "    </tr>\n",
       "  </tbody>\n",
       "</table>\n",
       "</div>"
      ],
      "text/plain": [
       "    Company SpecificBeanOrigin  ReviewDate  CocoaPct Location  Rating  \\\n",
       "0  A. Morin        Agua Grande        2016      0.63   France     375   \n",
       "1  A. Morin              Kpime        2015      0.70   France     275   \n",
       "2  A. Morin             Atsane        2015      0.70   France     300   \n",
       "3  A. Morin              Akata        2015      0.70   France     350   \n",
       "4  A. Morin             Quilla        2015      0.70   France     350   \n",
       "\n",
       "  BeanType BroadBeanOrigin  \n",
       "0                 Sao Tome  \n",
       "1                     Togo  \n",
       "2                     Togo  \n",
       "3                     Togo  \n",
       "4                     Peru  "
      ]
     },
     "execution_count": 4,
     "metadata": {},
     "output_type": "execute_result"
    }
   ],
   "source": [
    "##Since we will be using Rating as our target variable, it will need to be converted from a float to an integer.\n",
    "##We will also need to modify the data type of Cocoa Percent so that we can work with it as a number\n",
    "df['CocoaPct'] = df['CocoaPct'].str.replace('%','').astype(float)/100\n",
    "df['Rating'] = (df['Rating']* 100).astype(int)\n",
    "\n",
    "df.head()\n"
   ]
  },
  {
   "cell_type": "code",
   "execution_count": 5,
   "metadata": {
    "scrolled": false
   },
   "outputs": [
    {
     "data": {
      "text/plain": [
       "Company               category\n",
       "SpecificBeanOrigin    category\n",
       "ReviewDate               int64\n",
       "CocoaPct               float64\n",
       "Location              category\n",
       "Rating                   int64\n",
       "BeanType              category\n",
       "BroadBeanOrigin       category\n",
       "dtype: object"
      ]
     },
     "execution_count": 5,
     "metadata": {},
     "output_type": "execute_result"
    }
   ],
   "source": [
    "##Since most of these columns are unspecified data types, they must be converted to categorical if we are to use them for machine learning\n",
    "df['Company'] = df['Company'].astype('category')\n",
    "df['SpecificBeanOrigin'] = df['SpecificBeanOrigin'].astype('category')\n",
    "df['Location'] = df['Location'].astype('category')\n",
    "df['BeanType'] = df['BeanType'].astype('category')\n",
    "df['BroadBeanOrigin'] = df['BroadBeanOrigin'].astype('category')\n",
    "df['CocoaPct'] = df['CocoaPct'].astype('float64')\n",
    "\n",
    "df.dtypes"
   ]
  },
  {
   "cell_type": "code",
   "execution_count": 6,
   "metadata": {
    "scrolled": true
   },
   "outputs": [
    {
     "name": "stdout",
     "output_type": "stream",
     "text": [
      "Company               0\n",
      "SpecificBeanOrigin    0\n",
      "ReviewDate            0\n",
      "CocoaPct              0\n",
      "Location              0\n",
      "Rating                0\n",
      "BeanType              1\n",
      "BroadBeanOrigin       1\n",
      "dtype: int64\n"
     ]
    }
   ],
   "source": [
    "#Check for null values\n",
    "print(df.isnull().sum())"
   ]
  },
  {
   "cell_type": "code",
   "execution_count": 7,
   "metadata": {},
   "outputs": [
    {
     "name": "stdout",
     "output_type": "stream",
     "text": [
      "Company               0\n",
      "SpecificBeanOrigin    0\n",
      "ReviewDate            0\n",
      "CocoaPct              0\n",
      "Location              0\n",
      "Rating                0\n",
      "BeanType              0\n",
      "BroadBeanOrigin       0\n",
      "dtype: int64\n"
     ]
    }
   ],
   "source": [
    "###Since there are only 2 null values, they should not affect the outcome - we'll remove them\n",
    "\n",
    "df = df.dropna()\n",
    "print(df.isnull().sum())"
   ]
  },
  {
   "cell_type": "code",
   "execution_count": 8,
   "metadata": {
    "scrolled": true
   },
   "outputs": [
    {
     "data": {
      "text/plain": [
       "<matplotlib.axes._subplots.AxesSubplot at 0x1a15fe2780>"
      ]
     },
     "execution_count": 8,
     "metadata": {},
     "output_type": "execute_result"
    },
    {
     "data": {
      "image/png": "[encoded data removed]",
      "text/plain": [
       "<Figure size 432x288 with 2 Axes>"
      ]
     },
     "metadata": {
      "needs_background": "light"
     },
     "output_type": "display_data"
    }
   ],
   "source": [
    "##Any obvious correlations? Doesn't look like it.\n",
    "\n",
    "import seaborn as sns\n",
    "sns.heatmap(df.corr(), square=True, cmap='RdYlGn')"
   ]
  },
  {
   "cell_type": "code",
   "execution_count": 9,
   "metadata": {},
   "outputs": [
    {
     "data": {
      "image/png": "[encoded data removed]",
      "text/plain": [
       "<Figure size 432x288 with 1 Axes>"
      ]
     },
     "metadata": {
      "needs_background": "light"
     },
     "output_type": "display_data"
    }
   ],
   "source": [
    "#Let's inspect some variables more closely\n",
    "plt.scatter(df['CocoaPct'], df['Rating'], alpha=0.5)\n",
    "plt.xlabel = 'Cocoa Percent'\n",
    "plt.ylabel = 'Rating'\n"
   ]
  },
  {
   "cell_type": "code",
   "execution_count": 10,
   "metadata": {
    "scrolled": true
   },
   "outputs": [
    {
     "data": {
      "image/png": "[encoded data removed]",
      "text/plain": [
       "<Figure size 1152x360 with 1 Axes>"
      ]
     },
     "metadata": {
      "needs_background": "light"
     },
     "output_type": "display_data"
    },
    {
     "data": {
      "image/png": "[encoded data removed]",
      "text/plain": [
       "<Figure size 936x360 with 1 Axes>"
      ]
     },
     "metadata": {
      "needs_background": "light"
     },
     "output_type": "display_data"
    }
   ],
   "source": [
    "plt.figure(figsize=(16,5))\n",
    "sns.countplot(x= 'CocoaPct', data = df)\n",
    "\n",
    "plt.figure(figsize=(13, 5))\n",
    "plt.scatter(df['Location'], df['Rating'])\n",
    "plt.xticks(rotation=70)\n",
    "plt.tight_layout()\n"
   ]
  },
  {
   "cell_type": "code",
   "execution_count": 11,
   "metadata": {
    "scrolled": false
   },
   "outputs": [
    {
     "data": {
      "text/plain": [
       "(array([  4.,  13.,  32., 140., 259., 644., 602.,  97.,   0.,   2.]),\n",
       " array([100., 140., 180., 220., 260., 300., 340., 380., 420., 460., 500.]),\n",
       " <a list of 10 Patch objects>)"
      ]
     },
     "execution_count": 11,
     "metadata": {},
     "output_type": "execute_result"
    },
    {
     "data": {
      "image/png": "[encoded data removed]",
      "text/plain": [
       "<Figure size 432x288 with 1 Axes>"
      ]
     },
     "metadata": {
      "needs_background": "light"
     },
     "output_type": "display_data"
    }
   ],
   "source": [
    "plt.hist(df['Rating'])"
   ]
  },
  {
   "cell_type": "code",
   "execution_count": 12,
   "metadata": {},
   "outputs": [],
   "source": [
    "###It still doesn't look like we have any obvious correlations, but we do see that the most ratings hover around 3.0-3.5\n",
    "###We also see that 70% cocao is very popular"
   ]
  },
  {
   "cell_type": "markdown",
   "metadata": {},
   "source": [
    "# Hypothesis Test, Feature Engineering, & Model Selection\n",
    "\n",
    "Linear regression would appear to be an ideal model for predicting chocolate ratings since the values are continuous. Since all of the columns in this dataset are independent and there is no multi-collinearity, we will be using all columns to help us in our regression model. \n",
    "\n",
    "We will be using dummy variables to transform our text columns into binary categories, then we will be scaling the data in order to bring all features to the same level of magnitudes.\n",
    "\n",
    "After attempting linear regression, it becomes clear by our R^2 value that the model is quite ineffective. A better method ends up being to transform the target variable into a value that more closely resembles a categorical value. We will then use logistic regression to predict chcolate ratings."
   ]
  },
  {
   "cell_type": "code",
   "execution_count": 13,
   "metadata": {
    "scrolled": false
   },
   "outputs": [
    {
     "data": {
      "text/html": [
       "<div>\n",
       "<style scoped>\n",
       "    .dataframe tbody tr th:only-of-type {\n",
       "        vertical-align: middle;\n",
       "    }\n",
       "\n",
       "    .dataframe tbody tr th {\n",
       "        vertical-align: top;\n",
       "    }\n",
       "\n",
       "    .dataframe thead th {\n",
       "        text-align: right;\n",
       "    }\n",
       "</style>\n",
       "<table border=\"1\" class=\"dataframe\">\n",
       "  <thead>\n",
       "    <tr style=\"text-align: right;\">\n",
       "      <th></th>\n",
       "      <th>ReviewDate</th>\n",
       "      <th>CocoaPct</th>\n",
       "      <th>Rating</th>\n",
       "      <th>Company_AMMA</th>\n",
       "      <th>Company_Acalli</th>\n",
       "      <th>Company_Adi</th>\n",
       "      <th>Company_Aequare (Gianduja)</th>\n",
       "      <th>Company_Ah Cacao</th>\n",
       "      <th>Company_Akesson's (Pralus)</th>\n",
       "      <th>Company_Alain Ducasse</th>\n",
       "      <th>...</th>\n",
       "      <th>BroadBeanOrigin_Venezuela</th>\n",
       "      <th>BroadBeanOrigin_Venezuela, Carribean</th>\n",
       "      <th>BroadBeanOrigin_Venezuela, Dom. Rep.</th>\n",
       "      <th>BroadBeanOrigin_Venezuela, Ghana</th>\n",
       "      <th>BroadBeanOrigin_Venezuela, Java</th>\n",
       "      <th>BroadBeanOrigin_Venezuela, Trinidad</th>\n",
       "      <th>BroadBeanOrigin_Venezuela/ Ghana</th>\n",
       "      <th>BroadBeanOrigin_Vietnam</th>\n",
       "      <th>BroadBeanOrigin_West Africa</th>\n",
       "      <th>BroadBeanOrigin_</th>\n",
       "    </tr>\n",
       "  </thead>\n",
       "  <tbody>\n",
       "    <tr>\n",
       "      <th>0</th>\n",
       "      <td>2016</td>\n",
       "      <td>0.63</td>\n",
       "      <td>375</td>\n",
       "      <td>0</td>\n",
       "      <td>0</td>\n",
       "      <td>0</td>\n",
       "      <td>0</td>\n",
       "      <td>0</td>\n",
       "      <td>0</td>\n",
       "      <td>0</td>\n",
       "      <td>...</td>\n",
       "      <td>0</td>\n",
       "      <td>0</td>\n",
       "      <td>0</td>\n",
       "      <td>0</td>\n",
       "      <td>0</td>\n",
       "      <td>0</td>\n",
       "      <td>0</td>\n",
       "      <td>0</td>\n",
       "      <td>0</td>\n",
       "      <td>0</td>\n",
       "    </tr>\n",
       "    <tr>\n",
       "      <th>1</th>\n",
       "      <td>2015</td>\n",
       "      <td>0.70</td>\n",
       "      <td>275</td>\n",
       "      <td>0</td>\n",
       "      <td>0</td>\n",
       "      <td>0</td>\n",
       "      <td>0</td>\n",
       "      <td>0</td>\n",
       "      <td>0</td>\n",
       "      <td>0</td>\n",
       "      <td>...</td>\n",
       "      <td>0</td>\n",
       "      <td>0</td>\n",
       "      <td>0</td>\n",
       "      <td>0</td>\n",
       "      <td>0</td>\n",
       "      <td>0</td>\n",
       "      <td>0</td>\n",
       "      <td>0</td>\n",
       "      <td>0</td>\n",
       "      <td>0</td>\n",
       "    </tr>\n",
       "    <tr>\n",
       "      <th>2</th>\n",
       "      <td>2015</td>\n",
       "      <td>0.70</td>\n",
       "      <td>300</td>\n",
       "      <td>0</td>\n",
       "      <td>0</td>\n",
       "      <td>0</td>\n",
       "      <td>0</td>\n",
       "      <td>0</td>\n",
       "      <td>0</td>\n",
       "      <td>0</td>\n",
       "      <td>...</td>\n",
       "      <td>0</td>\n",
       "      <td>0</td>\n",
       "      <td>0</td>\n",
       "      <td>0</td>\n",
       "      <td>0</td>\n",
       "      <td>0</td>\n",
       "      <td>0</td>\n",
       "      <td>0</td>\n",
       "      <td>0</td>\n",
       "      <td>0</td>\n",
       "    </tr>\n",
       "    <tr>\n",
       "      <th>3</th>\n",
       "      <td>2015</td>\n",
       "      <td>0.70</td>\n",
       "      <td>350</td>\n",
       "      <td>0</td>\n",
       "      <td>0</td>\n",
       "      <td>0</td>\n",
       "      <td>0</td>\n",
       "      <td>0</td>\n",
       "      <td>0</td>\n",
       "      <td>0</td>\n",
       "      <td>...</td>\n",
       "      <td>0</td>\n",
       "      <td>0</td>\n",
       "      <td>0</td>\n",
       "      <td>0</td>\n",
       "      <td>0</td>\n",
       "      <td>0</td>\n",
       "      <td>0</td>\n",
       "      <td>0</td>\n",
       "      <td>0</td>\n",
       "      <td>0</td>\n",
       "    </tr>\n",
       "    <tr>\n",
       "      <th>4</th>\n",
       "      <td>2015</td>\n",
       "      <td>0.70</td>\n",
       "      <td>350</td>\n",
       "      <td>0</td>\n",
       "      <td>0</td>\n",
       "      <td>0</td>\n",
       "      <td>0</td>\n",
       "      <td>0</td>\n",
       "      <td>0</td>\n",
       "      <td>0</td>\n",
       "      <td>...</td>\n",
       "      <td>0</td>\n",
       "      <td>0</td>\n",
       "      <td>0</td>\n",
       "      <td>0</td>\n",
       "      <td>0</td>\n",
       "      <td>0</td>\n",
       "      <td>0</td>\n",
       "      <td>0</td>\n",
       "      <td>0</td>\n",
       "      <td>0</td>\n",
       "    </tr>\n",
       "  </tbody>\n",
       "</table>\n",
       "<p>5 rows × 1654 columns</p>\n",
       "</div>"
      ],
      "text/plain": [
       "   ReviewDate  CocoaPct  Rating  Company_AMMA  Company_Acalli  Company_Adi  \\\n",
       "0        2016      0.63     375             0               0            0   \n",
       "1        2015      0.70     275             0               0            0   \n",
       "2        2015      0.70     300             0               0            0   \n",
       "3        2015      0.70     350             0               0            0   \n",
       "4        2015      0.70     350             0               0            0   \n",
       "\n",
       "   Company_Aequare (Gianduja)  Company_Ah Cacao  Company_Akesson's (Pralus)  \\\n",
       "0                           0                 0                           0   \n",
       "1                           0                 0                           0   \n",
       "2                           0                 0                           0   \n",
       "3                           0                 0                           0   \n",
       "4                           0                 0                           0   \n",
       "\n",
       "   Company_Alain Ducasse        ...          BroadBeanOrigin_Venezuela  \\\n",
       "0                      0        ...                                  0   \n",
       "1                      0        ...                                  0   \n",
       "2                      0        ...                                  0   \n",
       "3                      0        ...                                  0   \n",
       "4                      0        ...                                  0   \n",
       "\n",
       "   BroadBeanOrigin_Venezuela, Carribean  BroadBeanOrigin_Venezuela, Dom. Rep.  \\\n",
       "0                                     0                                     0   \n",
       "1                                     0                                     0   \n",
       "2                                     0                                     0   \n",
       "3                                     0                                     0   \n",
       "4                                     0                                     0   \n",
       "\n",
       "   BroadBeanOrigin_Venezuela, Ghana  BroadBeanOrigin_Venezuela, Java  \\\n",
       "0                                 0                                0   \n",
       "1                                 0                                0   \n",
       "2                                 0                                0   \n",
       "3                                 0                                0   \n",
       "4                                 0                                0   \n",
       "\n",
       "   BroadBeanOrigin_Venezuela, Trinidad  BroadBeanOrigin_Venezuela/ Ghana  \\\n",
       "0                                    0                                 0   \n",
       "1                                    0                                 0   \n",
       "2                                    0                                 0   \n",
       "3                                    0                                 0   \n",
       "4                                    0                                 0   \n",
       "\n",
       "   BroadBeanOrigin_Vietnam  BroadBeanOrigin_West Africa  BroadBeanOrigin_   \n",
       "0                        0                            0                  0  \n",
       "1                        0                            0                  0  \n",
       "2                        0                            0                  0  \n",
       "3                        0                            0                  0  \n",
       "4                        0                            0                  0  \n",
       "\n",
       "[5 rows x 1654 columns]"
      ]
     },
     "execution_count": 13,
     "metadata": {},
     "output_type": "execute_result"
    }
   ],
   "source": [
    "##Let's go ahead and create our dummy variables for future use\n",
    "\n",
    "df = pd.get_dummies(df, drop_first=True)\n",
    "df.head()"
   ]
  },
  {
   "cell_type": "code",
   "execution_count": 14,
   "metadata": {
    "scrolled": true
   },
   "outputs": [
    {
     "name": "stdout",
     "output_type": "stream",
     "text": [
      "StandardScaler(copy=True, with_mean=True, with_std=True)\n",
      "[2.01232627e+03 7.16991076e-01 3.18586168e+02 ... 2.11935304e-02\n",
      " 3.34634690e-03 4.07138873e-02]\n",
      "[[ 1.25475435 -1.37540732  1.18135642 ... -0.14714762 -0.05794465\n",
      "  -0.20601422]\n",
      " [ 0.91320667 -0.26864423 -0.9127336  ... -0.14714762 -0.05794465\n",
      "  -0.20601422]\n",
      " [ 0.91320667 -0.26864423 -0.3892111  ... -0.14714762 -0.05794465\n",
      "  -0.20601422]\n",
      " ...\n",
      " [-0.45298404 -1.05918929  0.65783391 ... -0.14714762 -0.05794465\n",
      "  -0.20601422]\n",
      " [-0.45298404 -1.53351633  0.13431141 ... -0.14714762 -0.05794465\n",
      "  -0.20601422]\n",
      " [-0.79453171 -1.05918929 -0.3892111  ... -0.14714762 -0.05794465\n",
      "  -0.20601422]]\n"
     ]
    }
   ],
   "source": [
    "###Now let's go ahead and scale our data\n",
    "\n",
    "from sklearn.preprocessing import StandardScaler\n",
    "scaler = StandardScaler()\n",
    "\n",
    "print(scaler.fit(df))\n",
    "StandardScaler(copy=True, with_mean=True, with_std=True)\n",
    "\n",
    "print(scaler.mean_)\n",
    "\n",
    "print(scaler.transform(df))"
   ]
  },
  {
   "cell_type": "markdown",
   "metadata": {},
   "source": [
    "# Machine Learning Model Implementation"
   ]
  },
  {
   "cell_type": "code",
   "execution_count": 15,
   "metadata": {},
   "outputs": [
    {
     "name": "stdout",
     "output_type": "stream",
     "text": [
      "R^2: -1.0784805695939278e+21\n",
      "Root Mean Squared Error: 1572580330553.7583\n"
     ]
    }
   ],
   "source": [
    "###Since our target variable is continuous, we will be looking to see if linear regression will be a good model for predicting ratings\n",
    "from sklearn.linear_model import LinearRegression\n",
    "from sklearn.metrics import mean_squared_error\n",
    "from sklearn.model_selection import train_test_split\n",
    "\n",
    "X = df.drop('Rating', axis = 1)\n",
    "y = df['Rating']\n",
    "X_train, X_test, y_train, y_test = train_test_split(X, y, test_size=0.35, random_state=9)\n",
    "\n",
    "# Create the regressor: reg\n",
    "reg = LinearRegression()\n",
    "\n",
    "# Fit the regressor to the training data\n",
    "reg.fit(X_train, y_train)\n",
    "\n",
    "# Predict on the test data: y_pred\n",
    "y_pred = reg.predict(X_test)\n",
    "\n",
    "# Compute and print R^2 and RMSE\n",
    "print(\"R^2: {}\".format(reg.score(X_test, y_test)))\n",
    "rmse = np.sqrt(mean_squared_error(y_test, y_pred))\n",
    "print(\"Root Mean Squared Error: {}\".format(rmse))"
   ]
  },
  {
   "cell_type": "code",
   "execution_count": 16,
   "metadata": {},
   "outputs": [],
   "source": [
    "###This looks to be a terrible model - our R^2 value indicates that our regression line poorly fits the data.\n",
    "###Another option is to use logisitic regression by using our target variable as a categorical value:\n",
    "\n",
    "def categorical_rating(rating):\n",
    "    \n",
    "    rating = int(rating)\n",
    "    \n",
    "    if (rating == 0.0 ):\n",
    "        return 0.0\n",
    "    elif (rating > 0 ) and (rating <= 199 ):\n",
    "        return 1.0\n",
    "    elif (rating >= 200 ) and (rating <= 299 ):\n",
    "        return 2.0\n",
    "    elif (rating >= 300 ) and (rating <= 399 ):\n",
    "        return 3.0\n",
    "    else:\n",
    "        return 4.0\n",
    "\n",
    "df['Rating'] = df['Rating'].apply(categorical_rating)"
   ]
  },
  {
   "cell_type": "code",
   "execution_count": 17,
   "metadata": {
    "scrolled": true
   },
   "outputs": [
    {
     "name": "stdout",
     "output_type": "stream",
     "text": [
      "69.5859872611465\n"
     ]
    }
   ],
   "source": [
    "# Now let's use logistic regression \n",
    "from sklearn.linear_model import LogisticRegression\n",
    "from sklearn.metrics import accuracy_score, classification_report\n",
    "\n",
    "\n",
    "X = df.drop('Rating', axis = 1)\n",
    "y = df['Rating']\n",
    "X_train, X_test, y_train, y_test = train_test_split(X, y, test_size = 0.35, random_state=9)\n",
    "\n",
    "logreg = LogisticRegression()\n",
    "\n",
    "logreg.fit(X_train, y_train)\n",
    "\n",
    "y_pred = logreg.predict(X_test)\n",
    "print(accuracy_score(y_test,y_pred)*100)"
   ]
  },
  {
   "cell_type": "code",
   "execution_count": 18,
   "metadata": {
    "scrolled": true
   },
   "outputs": [
    {
     "name": "stdout",
     "output_type": "stream",
     "text": [
      "             precision    recall  f1-score   support\n",
      "\n",
      "        1.0       0.00      0.00      0.00         8\n",
      "        2.0       0.54      0.17      0.26       164\n",
      "        3.0       0.71      0.95      0.81       430\n",
      "        4.0       0.50      0.08      0.13        26\n",
      "\n",
      "avg / total       0.65      0.70      0.63       628\n",
      "\n"
     ]
    },
    {
     "name": "stderr",
     "output_type": "stream",
     "text": [
      "/Users/holliknight/anaconda3/lib/python3.7/site-packages/sklearn/metrics/classification.py:1135: UndefinedMetricWarning: Precision and F-score are ill-defined and being set to 0.0 in labels with no predicted samples.\n",
      "  'precision', 'predicted', average, warn_for)\n"
     ]
    }
   ],
   "source": [
    "###This looks to be a much better model.\n",
    "\n",
    "print(classification_report(y_test,y_pred))"
   ]
  },
  {
   "cell_type": "code",
   "execution_count": 19,
   "metadata": {},
   "outputs": [
    {
     "name": "stdout",
     "output_type": "stream",
     "text": [
      "Tuned Decision Tree Parameters: {'criterion': 'gini', 'max_depth': None, 'max_features': 6, 'min_samples_leaf': 7}\n",
      "Best score is 0.6949247071946458\n"
     ]
    }
   ],
   "source": [
    "# Let's use Hyperparameter tuning with RandomizedSearchCV to inspect our model further\n",
    "from scipy.stats import randint\n",
    "from sklearn.tree import DecisionTreeClassifier\n",
    "from sklearn.model_selection import RandomizedSearchCV\n",
    "\n",
    "param_dist = {\"max_depth\": [3, None],\n",
    "              \"max_features\": randint(1, 9),\n",
    "              \"min_samples_leaf\": randint(1, 9),\n",
    "              \"criterion\": [\"gini\", \"entropy\"]}\n",
    "\n",
    "tree = DecisionTreeClassifier()\n",
    "tree_cv = RandomizedSearchCV(tree, param_dist, cv=5)\n",
    "tree_cv.fit(X, y)\n",
    "\n",
    "print(\"Tuned Decision Tree Parameters: {}\".format(tree_cv.best_params_))\n",
    "print(\"Best score is {}\".format(tree_cv.best_score_))"
   ]
  },
  {
   "cell_type": "markdown",
   "metadata": {},
   "source": [
    "# Conclusion and further development\n",
    "\n",
    "Logistic regression yielded an accuracy of nearly 70%, concluding that the features utilized here (Company, SpecificBeanOrigin, ReviewDate, CocoaPct, Location, Rating, BeanType, and BroadBeanOrigin) are strong indicators for chocolate rating. I would have expected the linear regression model to have worked better, but transforming the ratings into categorical values and using logistic regression ended up providing a stronger model.\n",
    "\n",
    "The real world applications of this model, at least at this stage, are minimal; however, if it were to be honed further, it could be very useful for comanies who produce and sell chocolate.\n",
    "\n",
    "I did not expect these features to have such a strong impact on predicting scores, especially when taken together. In the future, I would like to have more time to dissect each feature as I grow my Python skills. While I don't plan on investing in chocolate any time soon, I will be returning to this dataset as a way to hone my Python abilities."
   ]
  },
  {
   "cell_type": "code",
   "execution_count": null,
   "metadata": {},
   "outputs": [],
   "source": []
  }
 ],
 "metadata": {
  "kernelspec": {
   "display_name": "Python 3",
   "language": "python",
   "name": "python3"
  },
  "language_info": {
   "codemirror_mode": {
    "name": "ipython",
    "version": 3
   },
   "file_extension": ".py",
   "mimetype": "text/x-python",
   "name": "python",
   "nbconvert_exporter": "python",
   "pygments_lexer": "ipython3",
   "version": "3.7.0"
  }
 },
 "nbformat": 4,
 "nbformat_minor": 2
}
